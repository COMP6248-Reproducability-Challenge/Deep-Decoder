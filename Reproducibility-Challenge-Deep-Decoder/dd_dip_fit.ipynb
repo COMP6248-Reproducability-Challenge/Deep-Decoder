{
 "cells": [
  {
   "cell_type": "code",
   "execution_count": 1,
   "metadata": {
    "colab": {
     "base_uri": "https://localhost:8080/",
     "height": 122
    },
    "colab_type": "code",
    "executionInfo": {
     "elapsed": 19927,
     "status": "ok",
     "timestamp": 1586089784533,
     "user": {
      "displayName": "tea lemon",
      "photoUrl": "",
      "userId": "09490020790366294186"
     },
     "user_tz": -60
    },
    "id": "WhGdxazDiQmt",
    "outputId": "4058a60d-83b3-4cfb-a929-3bed371be759"
   },
   "outputs": [
    {
     "name": "stdout",
     "output_type": "stream",
     "text": [
      "Go to this URL in a browser: https://accounts.google.com/o/oauth2/auth?client_id=947318989803-6bn6qk8qdgf4n4g3pfee6491hc0brc4i.apps.googleusercontent.com&redirect_uri=urn%3aietf%3awg%3aoauth%3a2.0%3aoob&response_type=code&scope=email%20https%3a%2f%2fwww.googleapis.com%2fauth%2fdocs.test%20https%3a%2f%2fwww.googleapis.com%2fauth%2fdrive%20https%3a%2f%2fwww.googleapis.com%2fauth%2fdrive.photos.readonly%20https%3a%2f%2fwww.googleapis.com%2fauth%2fpeopleapi.readonly\n",
      "\n",
      "Enter your authorization code:\n",
      "··········\n",
      "Mounted at /content/gdrive\n"
     ]
    }
   ],
   "source": [
    "from google.colab import drive\n",
    "drive.mount('/content/gdrive')"
   ]
  },
  {
   "cell_type": "code",
   "execution_count": 0,
   "metadata": {
    "colab": {},
    "colab_type": "code",
    "id": "PnWXtIRKHRtv"
   },
   "outputs": [],
   "source": [
    "import os\n",
    "os.chdir(\"/content/gdrive/My Drive/dl_coursework\")"
   ]
  },
  {
   "cell_type": "code",
   "execution_count": 0,
   "metadata": {
    "colab": {},
    "colab_type": "code",
    "id": "p9-CjH4fHWjC"
   },
   "outputs": [],
   "source": [
    "import torch\n",
    "import copy\n",
    "import utils\n",
    "import decoder\n",
    "import trainnet\n",
    "import wavelet\n",
    "import dip.skip as skip\n",
    "import numpy as np\n",
    "from PIL import Image\n",
    "import torch.nn as nn\n",
    "import torch.nn.functional as F\n",
    "import torch.optim as optim\n",
    "import matplotlib.pyplot as plt\n",
    "%matplotlib inline"
   ]
  },
  {
   "cell_type": "code",
   "execution_count": 0,
   "metadata": {
    "colab": {},
    "colab_type": "code",
    "id": "IhoPA1H0HZ9D"
   },
   "outputs": [],
   "source": [
    "# read a image without noise and convert it to tensor\n",
    "img_path = './test_data/astronaut.png'\n",
    "img_pil = Image.open(img_path)\n",
    "img_clean_np = utils.pil_numpy(img_pil)\n",
    "img_clean_tensor = utils.np_tensor(img_clean_np)\n",
    "img_clean_tensor = img_clean_tensor.cuda()"
   ]
  },
  {
   "cell_type": "code",
   "execution_count": 0,
   "metadata": {
    "colab": {
     "base_uri": "https://localhost:8080/",
     "height": 34
    },
    "colab_type": "code",
    "executionInfo": {
     "elapsed": 517,
     "status": "ok",
     "timestamp": 1586005214412,
     "user": {
      "displayName": "tea lemon",
      "photoUrl": "",
      "userId": "09490020790366294186"
     },
     "user_tz": -60
    },
    "id": "WSt4b-I8RvQ_",
    "outputId": "bfe800d4-8cba-4d00-9823-7d162b3753d4"
   },
   "outputs": [
    {
     "data": {
      "text/plain": [
       "(3, 512, 512)"
      ]
     },
     "execution_count": 11,
     "metadata": {
      "tags": []
     },
     "output_type": "execute_result"
    }
   ],
   "source": [
    "img_clean_np.shape"
   ]
  },
  {
   "cell_type": "code",
   "execution_count": 0,
   "metadata": {
    "colab": {},
    "colab_type": "code",
    "id": "67x14dPTHdx1"
   },
   "outputs": [],
   "source": [
    "def add_noise(img_np, sigma):\n",
    "    noise = np.random.normal(scale=sigma, size=img_np.shape)\n",
    "    img_noisy_np = img_np + noise\n",
    "    return np.clip(img_noisy_np, 0,1).astype(np.float32), noise"
   ]
  },
  {
   "cell_type": "code",
   "execution_count": 0,
   "metadata": {
    "colab": {},
    "colab_type": "code",
    "id": "iA4zygp6HgqS"
   },
   "outputs": [],
   "source": [
    "# add noise to the image\n",
    "img_noisy_np, noise_np = add_noise(img_clean_np, sigma=0.1)\n",
    "img_noisy_tensor = utils.np_tensor(img_noisy_np)\n",
    "img_noisy_tensor = img_noisy_tensor.cuda()"
   ]
  },
  {
   "cell_type": "code",
   "execution_count": 0,
   "metadata": {
    "colab": {},
    "colab_type": "code",
    "id": "Pv6tQyeKRhQv"
   },
   "outputs": [],
   "source": [
    "def get_dip_input(input_depth, img_size):\n",
    "    net_input = torch.zeros((1,input_depth, img_size, img_size))\n",
    "    net_input.uniform_()\n",
    "    net_input *= 1./10\n",
    "    return net_input"
   ]
  },
  {
   "cell_type": "code",
   "execution_count": 0,
   "metadata": {
    "colab": {},
    "colab_type": "code",
    "id": "x3pQ5kTgRm0_"
   },
   "outputs": [],
   "source": [
    "dip_net_input = get_dip_input(2, 512)"
   ]
  },
  {
   "cell_type": "markdown",
   "metadata": {
    "colab_type": "text",
    "id": "FvhGwvE7I3pG"
   },
   "source": [
    "## Fit noisy image"
   ]
  },
  {
   "cell_type": "code",
   "execution_count": 0,
   "metadata": {
    "colab": {
     "base_uri": "https://localhost:8080/",
     "height": 527
    },
    "colab_type": "code",
    "executionInfo": {
     "elapsed": 612625,
     "status": "ok",
     "timestamp": 1586004751826,
     "user": {
      "displayName": "tea lemon",
      "photoUrl": "",
      "userId": "09490020790366294186"
     },
     "user_tz": -60
    },
    "id": "ByNzErOnIr84",
    "outputId": "f5cddf2f-691c-4d24-8bfc-4382ddd56ddb"
   },
   "outputs": [
    {
     "name": "stdout",
     "output_type": "stream",
     "text": [
      "tensor(0.0860, device='cuda:0', grad_fn=<MseLossBackward>)\n",
      "tensor(0.0094, device='cuda:0', grad_fn=<MseLossBackward>)\n",
      "tensor(0.0092, device='cuda:0', grad_fn=<MseLossBackward>)\n",
      "tensor(0.0092, device='cuda:0', grad_fn=<MseLossBackward>)\n",
      "tensor(0.0091, device='cuda:0', grad_fn=<MseLossBackward>)\n",
      "tensor(0.0090, device='cuda:0', grad_fn=<MseLossBackward>)\n",
      "tensor(0.0090, device='cuda:0', grad_fn=<MseLossBackward>)\n",
      "tensor(0.0090, device='cuda:0', grad_fn=<MseLossBackward>)\n",
      "tensor(0.0091, device='cuda:0', grad_fn=<MseLossBackward>)\n",
      "tensor(0.0090, device='cuda:0', grad_fn=<MseLossBackward>)\n",
      "tensor(0.0091, device='cuda:0', grad_fn=<MseLossBackward>)\n",
      "tensor(0.0090, device='cuda:0', grad_fn=<MseLossBackward>)\n",
      "tensor(0.0090, device='cuda:0', grad_fn=<MseLossBackward>)\n",
      "tensor(0.0089, device='cuda:0', grad_fn=<MseLossBackward>)\n",
      "tensor(0.0089, device='cuda:0', grad_fn=<MseLossBackward>)\n",
      "tensor(0.0089, device='cuda:0', grad_fn=<MseLossBackward>)\n",
      "tensor(0.0089, device='cuda:0', grad_fn=<MseLossBackward>)\n",
      "tensor(0.0089, device='cuda:0', grad_fn=<MseLossBackward>)\n",
      "tensor(0.0089, device='cuda:0', grad_fn=<MseLossBackward>)\n",
      "tensor(0.0088, device='cuda:0', grad_fn=<MseLossBackward>)\n",
      "tensor(0.0089, device='cuda:0', grad_fn=<MseLossBackward>)\n",
      "tensor(0.0088, device='cuda:0', grad_fn=<MseLossBackward>)\n",
      "tensor(0.0089, device='cuda:0', grad_fn=<MseLossBackward>)\n",
      "tensor(0.0088, device='cuda:0', grad_fn=<MseLossBackward>)\n",
      "tensor(0.0088, device='cuda:0', grad_fn=<MseLossBackward>)\n",
      "tensor(0.0089, device='cuda:0', grad_fn=<MseLossBackward>)\n",
      "tensor(0.0088, device='cuda:0', grad_fn=<MseLossBackward>)\n",
      "tensor(0.0088, device='cuda:0', grad_fn=<MseLossBackward>)\n",
      "tensor(0.0089, device='cuda:0', grad_fn=<MseLossBackward>)\n",
      "tensor(0.0088, device='cuda:0', grad_fn=<MseLossBackward>)\n"
     ]
    }
   ],
   "source": [
    "# deep decoder\n",
    "dd_fit_noisy = decoder.Decoder(k_channels=64,\n",
    "                            output_channels=3,\n",
    "                            upsample_times=5)\n",
    "\n",
    "dd_noisy, dd_noisy_mse_n, dd_noisy_mse_t, dd_noisy_input = trainnet.train_net(net = dd_fit_noisy,\n",
    "                                                                              num_epoches = 30000,\n",
    "                                                                              lr = 0.01,\n",
    "                                                                              img_noisy = img_noisy_tensor,\n",
    "                                                                              img_clean = img_clean_tensor,\n",
    "                                                                              k_channels = 64)"
   ]
  },
  {
   "cell_type": "code",
   "execution_count": 0,
   "metadata": {
    "colab": {
     "base_uri": "https://localhost:8080/",
     "height": 527
    },
    "colab_type": "code",
    "executionInfo": {
     "elapsed": 195642,
     "status": "ok",
     "timestamp": 1586006973134,
     "user": {
      "displayName": "tea lemon",
      "photoUrl": "",
      "userId": "09490020790366294186"
     },
     "user_tz": -60
    },
    "id": "QiLGXhN3NKep",
    "outputId": "0848152a-6b1b-4bce-c72d-c710b0a9a357"
   },
   "outputs": [
    {
     "name": "stdout",
     "output_type": "stream",
     "text": [
      "tensor(0.0903, device='cuda:0', grad_fn=<MseLossBackward>)\n",
      "tensor(0.0092, device='cuda:0', grad_fn=<MseLossBackward>)\n",
      "tensor(0.0085, device='cuda:0', grad_fn=<MseLossBackward>)\n",
      "tensor(0.0114, device='cuda:0', grad_fn=<MseLossBackward>)\n",
      "tensor(0.0095, device='cuda:0', grad_fn=<MseLossBackward>)\n",
      "tensor(0.0092, device='cuda:0', grad_fn=<MseLossBackward>)\n",
      "tensor(0.0090, device='cuda:0', grad_fn=<MseLossBackward>)\n",
      "tensor(0.0093, device='cuda:0', grad_fn=<MseLossBackward>)\n",
      "tensor(0.0089, device='cuda:0', grad_fn=<MseLossBackward>)\n",
      "tensor(0.0086, device='cuda:0', grad_fn=<MseLossBackward>)\n",
      "tensor(0.0083, device='cuda:0', grad_fn=<MseLossBackward>)\n",
      "tensor(0.0080, device='cuda:0', grad_fn=<MseLossBackward>)\n",
      "tensor(0.0077, device='cuda:0', grad_fn=<MseLossBackward>)\n",
      "tensor(0.0074, device='cuda:0', grad_fn=<MseLossBackward>)\n",
      "tensor(0.0072, device='cuda:0', grad_fn=<MseLossBackward>)\n",
      "tensor(0.0070, device='cuda:0', grad_fn=<MseLossBackward>)\n",
      "tensor(0.0068, device='cuda:0', grad_fn=<MseLossBackward>)\n",
      "tensor(0.0066, device='cuda:0', grad_fn=<MseLossBackward>)\n",
      "tensor(0.0064, device='cuda:0', grad_fn=<MseLossBackward>)\n",
      "tensor(0.0063, device='cuda:0', grad_fn=<MseLossBackward>)\n",
      "tensor(0.0063, device='cuda:0', grad_fn=<MseLossBackward>)\n",
      "tensor(0.0060, device='cuda:0', grad_fn=<MseLossBackward>)\n",
      "tensor(0.0059, device='cuda:0', grad_fn=<MseLossBackward>)\n",
      "tensor(0.0059, device='cuda:0', grad_fn=<MseLossBackward>)\n",
      "tensor(0.0059, device='cuda:0', grad_fn=<MseLossBackward>)\n",
      "tensor(0.0057, device='cuda:0', grad_fn=<MseLossBackward>)\n",
      "tensor(0.0056, device='cuda:0', grad_fn=<MseLossBackward>)\n",
      "tensor(0.0056, device='cuda:0', grad_fn=<MseLossBackward>)\n",
      "tensor(0.0056, device='cuda:0', grad_fn=<MseLossBackward>)\n",
      "tensor(0.0055, device='cuda:0', grad_fn=<MseLossBackward>)\n"
     ]
    }
   ],
   "source": [
    "# dip\n",
    "dip_fit_noisy = skip.skip(num_input_channels=2, num_output_channels=3,\n",
    "                      upsample_mode='nearest', downsample_mode='avg',\n",
    "                      pad='reflection')\n",
    "\n",
    "dip_noisy, dip_noisy_mse_n, dip_noisy_mse_t, dip_noisy_input = trainnet.train_net(net = dip_fit_noisy,\n",
    "                                                                                  num_epoches = 30000,\n",
    "                                                                                  lr = 0.01,\n",
    "                                                                                  net_input = dip_net_input,\n",
    "                                                                                  img_noisy = img_noisy_tensor,\n",
    "                                                                                  img_clean = img_clean_tensor,\n",
    "                                                                                  k_channels = None)"
   ]
  },
  {
   "cell_type": "code",
   "execution_count": 0,
   "metadata": {
    "colab": {
     "base_uri": "https://localhost:8080/",
     "height": 370
    },
    "colab_type": "code",
    "executionInfo": {
     "elapsed": 1025,
     "status": "ok",
     "timestamp": 1586015543534,
     "user": {
      "displayName": "tea lemon",
      "photoUrl": "",
      "userId": "09490020790366294186"
     },
     "user_tz": -60
    },
    "id": "rC2YCkq8ND1D",
    "outputId": "067aed5a-cd65-4146-a2d0-acf1af7b14b5"
   },
   "outputs": [
    {
     "data": {
      "text/plain": [
       "<matplotlib.legend.Legend at 0x7f9bdb851780>"
      ]
     },
     "execution_count": 58,
     "metadata": {
      "tags": []
     },
     "output_type": "execute_result"
    },
    {
     "data": {
      "image/png": "[encoded data removed]",
      "text/plain": [
       "<Figure size 360x360 with 1 Axes>"
      ]
     },
     "metadata": {
      "tags": []
     },
     "output_type": "display_data"
    }
   ],
   "source": [
    "plt.figure(figsize=(5,5))\n",
    "plt.loglog(dd_noisy_mse_t, label='DD')\n",
    "plt.loglog(dip_noisy_mse_t, alpha=0.9, label='DIP')\n",
    "plt.xlabel('iteration', fontsize=11)\n",
    "plt.ylabel('MSE img', fontsize=11)\n",
    "plt.title('fit noisy image')\n",
    "plt.legend()"
   ]
  },
  {
   "cell_type": "markdown",
   "metadata": {
    "colab_type": "text",
    "id": "WolQuEm7e7SM"
   },
   "source": [
    "## Fit clean image"
   ]
  },
  {
   "cell_type": "code",
   "execution_count": 0,
   "metadata": {
    "colab": {
     "base_uri": "https://localhost:8080/",
     "height": 527
    },
    "colab_type": "code",
    "executionInfo": {
     "elapsed": 614103,
     "status": "ok",
     "timestamp": 1586009399474,
     "user": {
      "displayName": "tea lemon",
      "photoUrl": "",
      "userId": "09490020790366294186"
     },
     "user_tz": -60
    },
    "id": "2BGO102EeGkK",
    "outputId": "0c08f77d-6adb-4f7a-be89-fac117175201"
   },
   "outputs": [
    {
     "name": "stdout",
     "output_type": "stream",
     "text": [
      "tensor(0.0831, device='cuda:0', grad_fn=<MseLossBackward>)\n",
      "tensor(0.0008, device='cuda:0', grad_fn=<MseLossBackward>)\n",
      "tensor(0.0006, device='cuda:0', grad_fn=<MseLossBackward>)\n",
      "tensor(0.0005, device='cuda:0', grad_fn=<MseLossBackward>)\n",
      "tensor(0.0005, device='cuda:0', grad_fn=<MseLossBackward>)\n",
      "tensor(0.0004, device='cuda:0', grad_fn=<MseLossBackward>)\n",
      "tensor(0.0005, device='cuda:0', grad_fn=<MseLossBackward>)\n",
      "tensor(0.0004, device='cuda:0', grad_fn=<MseLossBackward>)\n",
      "tensor(0.0005, device='cuda:0', grad_fn=<MseLossBackward>)\n",
      "tensor(0.0004, device='cuda:0', grad_fn=<MseLossBackward>)\n",
      "tensor(0.0004, device='cuda:0', grad_fn=<MseLossBackward>)\n",
      "tensor(0.0004, device='cuda:0', grad_fn=<MseLossBackward>)\n",
      "tensor(0.0003, device='cuda:0', grad_fn=<MseLossBackward>)\n",
      "tensor(0.0004, device='cuda:0', grad_fn=<MseLossBackward>)\n",
      "tensor(0.0003, device='cuda:0', grad_fn=<MseLossBackward>)\n",
      "tensor(0.0003, device='cuda:0', grad_fn=<MseLossBackward>)\n",
      "tensor(0.0004, device='cuda:0', grad_fn=<MseLossBackward>)\n",
      "tensor(0.0003, device='cuda:0', grad_fn=<MseLossBackward>)\n",
      "tensor(0.0003, device='cuda:0', grad_fn=<MseLossBackward>)\n",
      "tensor(0.0003, device='cuda:0', grad_fn=<MseLossBackward>)\n",
      "tensor(0.0003, device='cuda:0', grad_fn=<MseLossBackward>)\n",
      "tensor(0.0004, device='cuda:0', grad_fn=<MseLossBackward>)\n",
      "tensor(0.0003, device='cuda:0', grad_fn=<MseLossBackward>)\n",
      "tensor(0.0003, device='cuda:0', grad_fn=<MseLossBackward>)\n",
      "tensor(0.0003, device='cuda:0', grad_fn=<MseLossBackward>)\n",
      "tensor(0.0003, device='cuda:0', grad_fn=<MseLossBackward>)\n",
      "tensor(0.0003, device='cuda:0', grad_fn=<MseLossBackward>)\n",
      "tensor(0.0003, device='cuda:0', grad_fn=<MseLossBackward>)\n",
      "tensor(0.0003, device='cuda:0', grad_fn=<MseLossBackward>)\n",
      "tensor(0.0003, device='cuda:0', grad_fn=<MseLossBackward>)\n"
     ]
    }
   ],
   "source": [
    "# deep decoder\n",
    "dd_fit_clean = decoder.Decoder(k_channels=64,\n",
    "                            output_channels=3,\n",
    "                            upsample_times=5)\n",
    "\n",
    "dd_clean, dd_clean_mse_n, dd_clean_mse_t, dd_clean_input = trainnet.train_net(net = dd_fit_clean,\n",
    "                                                                              num_epoches = 30000,\n",
    "                                                                              lr = 0.01,\n",
    "                                                                              img_noisy = img_clean_tensor,\n",
    "                                                                              img_clean = img_clean_tensor,\n",
    "                                                                              k_channels = 64)"
   ]
  },
  {
   "cell_type": "code",
   "execution_count": 0,
   "metadata": {
    "colab": {
     "base_uri": "https://localhost:8080/",
     "height": 527
    },
    "colab_type": "code",
    "executionInfo": {
     "elapsed": 946738,
     "status": "ok",
     "timestamp": 1586011324152,
     "user": {
      "displayName": "tea lemon",
      "photoUrl": "",
      "userId": "09490020790366294186"
     },
     "user_tz": -60
    },
    "id": "ULP6SMc0jAB3",
    "outputId": "9baaa483-cbe2-4450-efab-54c5f9ff9037"
   },
   "outputs": [
    {
     "name": "stdout",
     "output_type": "stream",
     "text": [
      "tensor(0.0879, device='cuda:0', grad_fn=<MseLossBackward>)\n",
      "tensor(0.0006, device='cuda:0', grad_fn=<MseLossBackward>)\n",
      "tensor(0.0004, device='cuda:0', grad_fn=<MseLossBackward>)\n",
      "tensor(0.0003, device='cuda:0', grad_fn=<MseLossBackward>)\n",
      "tensor(0.0018, device='cuda:0', grad_fn=<MseLossBackward>)\n",
      "tensor(0.0008, device='cuda:0', grad_fn=<MseLossBackward>)\n",
      "tensor(0.0007, device='cuda:0', grad_fn=<MseLossBackward>)\n",
      "tensor(0.0004, device='cuda:0', grad_fn=<MseLossBackward>)\n",
      "tensor(0.0004, device='cuda:0', grad_fn=<MseLossBackward>)\n",
      "tensor(0.0004, device='cuda:0', grad_fn=<MseLossBackward>)\n",
      "tensor(0.0003, device='cuda:0', grad_fn=<MseLossBackward>)\n",
      "tensor(0.0011, device='cuda:0', grad_fn=<MseLossBackward>)\n",
      "tensor(0.0005, device='cuda:0', grad_fn=<MseLossBackward>)\n",
      "tensor(0.0004, device='cuda:0', grad_fn=<MseLossBackward>)\n",
      "tensor(0.0003, device='cuda:0', grad_fn=<MseLossBackward>)\n",
      "tensor(0.0003, device='cuda:0', grad_fn=<MseLossBackward>)\n",
      "tensor(0.0003, device='cuda:0', grad_fn=<MseLossBackward>)\n",
      "tensor(0.0002, device='cuda:0', grad_fn=<MseLossBackward>)\n",
      "tensor(0.0002, device='cuda:0', grad_fn=<MseLossBackward>)\n",
      "tensor(0.0002, device='cuda:0', grad_fn=<MseLossBackward>)\n",
      "tensor(0.0002, device='cuda:0', grad_fn=<MseLossBackward>)\n",
      "tensor(0.0001, device='cuda:0', grad_fn=<MseLossBackward>)\n",
      "tensor(0.0001, device='cuda:0', grad_fn=<MseLossBackward>)\n",
      "tensor(0.0001, device='cuda:0', grad_fn=<MseLossBackward>)\n",
      "tensor(0.0001, device='cuda:0', grad_fn=<MseLossBackward>)\n",
      "tensor(0.0001, device='cuda:0', grad_fn=<MseLossBackward>)\n",
      "tensor(0.0001, device='cuda:0', grad_fn=<MseLossBackward>)\n",
      "tensor(9.9354e-05, device='cuda:0', grad_fn=<MseLossBackward>)\n",
      "tensor(9.2231e-05, device='cuda:0', grad_fn=<MseLossBackward>)\n",
      "tensor(9.2858e-05, device='cuda:0', grad_fn=<MseLossBackward>)\n"
     ]
    }
   ],
   "source": [
    "# dip\n",
    "dip_fit_clean = skip.skip(num_input_channels=2, num_output_channels=3,\n",
    "                      upsample_mode='nearest', downsample_mode='avg',\n",
    "                      pad='reflection')\n",
    "\n",
    "dip_clean, dip_clean_mse_n, dip_clean_mse_t, dip_clean_input = trainnet.train_net(net = dip_fit_clean,\n",
    "                                                                                  num_epoches = 30000,\n",
    "                                                                                  lr = 0.01,\n",
    "                                                                                  net_input = dip_net_input,\n",
    "                                                                                  img_noisy = img_clean_tensor,\n",
    "                                                                                  img_clean = img_clean_tensor,\n",
    "                                                                                  k_channels = None)"
   ]
  },
  {
   "cell_type": "code",
   "execution_count": 0,
   "metadata": {
    "colab": {
     "base_uri": "https://localhost:8080/",
     "height": 370
    },
    "colab_type": "code",
    "executionInfo": {
     "elapsed": 971,
     "status": "ok",
     "timestamp": 1586015555461,
     "user": {
      "displayName": "tea lemon",
      "photoUrl": "",
      "userId": "09490020790366294186"
     },
     "user_tz": -60
    },
    "id": "MMY_1MvQh5WS",
    "outputId": "2ef51400-f631-499c-c4d0-4ba634ce04a5"
   },
   "outputs": [
    {
     "data": {
      "text/plain": [
       "<matplotlib.legend.Legend at 0x7f9bdb64fba8>"
      ]
     },
     "execution_count": 59,
     "metadata": {
      "tags": []
     },
     "output_type": "execute_result"
    },
    {
     "data": {
      "image/png": "[encoded data removed]",
      "text/plain": [
       "<Figure size 360x360 with 1 Axes>"
      ]
     },
     "metadata": {
      "tags": []
     },
     "output_type": "display_data"
    }
   ],
   "source": [
    "plt.figure(figsize=(5,5))\n",
    "plt.loglog(dd_clean_mse_t, label='DD')\n",
    "plt.loglog(dip_clean_mse_t, alpha=0.9, label='DIP')\n",
    "plt.xlabel('iteration', fontsize=11)\n",
    "plt.ylabel('MSE img', fontsize=11)\n",
    "plt.title('fit clean image')\n",
    "plt.legend()"
   ]
  },
  {
   "cell_type": "markdown",
   "metadata": {
    "colab_type": "text",
    "id": "pftKKNR7psU5"
   },
   "source": [
    "## Fit noise"
   ]
  },
  {
   "cell_type": "code",
   "execution_count": 0,
   "metadata": {
    "colab": {},
    "colab_type": "code",
    "id": "tCWhn5LgpqF5"
   },
   "outputs": [],
   "source": [
    "noise_tensor = utils.np_tensor(noise_np).type(torch.float32)"
   ]
  },
  {
   "cell_type": "code",
   "execution_count": 0,
   "metadata": {
    "colab": {
     "base_uri": "https://localhost:8080/",
     "height": 527
    },
    "colab_type": "code",
    "executionInfo": {
     "elapsed": 138717,
     "status": "ok",
     "timestamp": 1586012317766,
     "user": {
      "displayName": "tea lemon",
      "photoUrl": "",
      "userId": "09490020790366294186"
     },
     "user_tz": -60
    },
    "id": "FPTF2exwqHms",
    "outputId": "0af5414a-c9dd-45c7-b659-b9b4a494ea96"
   },
   "outputs": [
    {
     "name": "stdout",
     "output_type": "stream",
     "text": [
      "tensor(0.2850, device='cuda:0', grad_fn=<MseLossBackward>)\n",
      "tensor(0.0100, device='cuda:0', grad_fn=<MseLossBackward>)\n",
      "tensor(0.0100, device='cuda:0', grad_fn=<MseLossBackward>)\n",
      "tensor(0.0099, device='cuda:0', grad_fn=<MseLossBackward>)\n",
      "tensor(0.0098, device='cuda:0', grad_fn=<MseLossBackward>)\n",
      "tensor(0.0097, device='cuda:0', grad_fn=<MseLossBackward>)\n",
      "tensor(0.0097, device='cuda:0', grad_fn=<MseLossBackward>)\n",
      "tensor(0.0097, device='cuda:0', grad_fn=<MseLossBackward>)\n",
      "tensor(0.0096, device='cuda:0', grad_fn=<MseLossBackward>)\n",
      "tensor(0.0096, device='cuda:0', grad_fn=<MseLossBackward>)\n",
      "tensor(0.0096, device='cuda:0', grad_fn=<MseLossBackward>)\n",
      "tensor(0.0096, device='cuda:0', grad_fn=<MseLossBackward>)\n",
      "tensor(0.0095, device='cuda:0', grad_fn=<MseLossBackward>)\n",
      "tensor(0.0095, device='cuda:0', grad_fn=<MseLossBackward>)\n",
      "tensor(0.0095, device='cuda:0', grad_fn=<MseLossBackward>)\n",
      "tensor(0.0096, device='cuda:0', grad_fn=<MseLossBackward>)\n",
      "tensor(0.0095, device='cuda:0', grad_fn=<MseLossBackward>)\n",
      "tensor(0.0095, device='cuda:0', grad_fn=<MseLossBackward>)\n",
      "tensor(0.0095, device='cuda:0', grad_fn=<MseLossBackward>)\n",
      "tensor(0.0095, device='cuda:0', grad_fn=<MseLossBackward>)\n",
      "tensor(0.0095, device='cuda:0', grad_fn=<MseLossBackward>)\n",
      "tensor(0.0095, device='cuda:0', grad_fn=<MseLossBackward>)\n",
      "tensor(0.0095, device='cuda:0', grad_fn=<MseLossBackward>)\n",
      "tensor(0.0095, device='cuda:0', grad_fn=<MseLossBackward>)\n",
      "tensor(0.0095, device='cuda:0', grad_fn=<MseLossBackward>)\n",
      "tensor(0.0095, device='cuda:0', grad_fn=<MseLossBackward>)\n",
      "tensor(0.0095, device='cuda:0', grad_fn=<MseLossBackward>)\n",
      "tensor(0.0095, device='cuda:0', grad_fn=<MseLossBackward>)\n",
      "tensor(0.0095, device='cuda:0', grad_fn=<MseLossBackward>)\n",
      "tensor(0.0095, device='cuda:0', grad_fn=<MseLossBackward>)\n"
     ]
    }
   ],
   "source": [
    "# deep decoder\n",
    "dd_fit_noise = decoder.Decoder(k_channels=64,\n",
    "                            output_channels=3,\n",
    "                            upsample_times=5)\n",
    "\n",
    "dd_noise, dd_noise_mse_n, dd_noise_mse_t, dd_noise_input = trainnet.train_net(net = dd_fit_noise,\n",
    "                                                                              num_epoches = 30000,\n",
    "                                                                              lr = 0.01,\n",
    "                                                                              img_noisy = noise_tensor,\n",
    "                                                                              img_clean = noise_tensor,\n",
    "                                                                              k_channels = 64)"
   ]
  },
  {
   "cell_type": "code",
   "execution_count": 0,
   "metadata": {
    "colab": {
     "base_uri": "https://localhost:8080/",
     "height": 527
    },
    "colab_type": "code",
    "executionInfo": {
     "elapsed": 1445701,
     "status": "ok",
     "timestamp": 1586015423863,
     "user": {
      "displayName": "tea lemon",
      "photoUrl": "",
      "userId": "09490020790366294186"
     },
     "user_tz": -60
    },
    "id": "RrxvNF9OyiHW",
    "outputId": "423a8941-c348-420b-c900-54c048dd32a1"
   },
   "outputs": [
    {
     "name": "stdout",
     "output_type": "stream",
     "text": [
      "tensor(0.2544, device='cuda:0', grad_fn=<MseLossBackward>)\n",
      "tensor(0.0100, device='cuda:0', grad_fn=<MseLossBackward>)\n",
      "tensor(0.0096, device='cuda:0', grad_fn=<MseLossBackward>)\n",
      "tensor(0.0085, device='cuda:0', grad_fn=<MseLossBackward>)\n",
      "tensor(0.0079, device='cuda:0', grad_fn=<MseLossBackward>)\n",
      "tensor(0.0078, device='cuda:0', grad_fn=<MseLossBackward>)\n",
      "tensor(0.0076, device='cuda:0', grad_fn=<MseLossBackward>)\n",
      "tensor(0.0075, device='cuda:0', grad_fn=<MseLossBackward>)\n",
      "tensor(0.0075, device='cuda:0', grad_fn=<MseLossBackward>)\n",
      "tensor(0.0074, device='cuda:0', grad_fn=<MseLossBackward>)\n",
      "tensor(0.0074, device='cuda:0', grad_fn=<MseLossBackward>)\n",
      "tensor(0.0074, device='cuda:0', grad_fn=<MseLossBackward>)\n",
      "tensor(0.0074, device='cuda:0', grad_fn=<MseLossBackward>)\n",
      "tensor(0.0074, device='cuda:0', grad_fn=<MseLossBackward>)\n",
      "tensor(0.0073, device='cuda:0', grad_fn=<MseLossBackward>)\n",
      "tensor(0.0073, device='cuda:0', grad_fn=<MseLossBackward>)\n",
      "tensor(0.0073, device='cuda:0', grad_fn=<MseLossBackward>)\n",
      "tensor(0.0073, device='cuda:0', grad_fn=<MseLossBackward>)\n",
      "tensor(0.0073, device='cuda:0', grad_fn=<MseLossBackward>)\n",
      "tensor(0.0073, device='cuda:0', grad_fn=<MseLossBackward>)\n",
      "tensor(0.0073, device='cuda:0', grad_fn=<MseLossBackward>)\n",
      "tensor(0.0073, device='cuda:0', grad_fn=<MseLossBackward>)\n",
      "tensor(0.0073, device='cuda:0', grad_fn=<MseLossBackward>)\n",
      "tensor(0.0073, device='cuda:0', grad_fn=<MseLossBackward>)\n",
      "tensor(0.0073, device='cuda:0', grad_fn=<MseLossBackward>)\n",
      "tensor(0.0073, device='cuda:0', grad_fn=<MseLossBackward>)\n",
      "tensor(0.0073, device='cuda:0', grad_fn=<MseLossBackward>)\n",
      "tensor(0.0072, device='cuda:0', grad_fn=<MseLossBackward>)\n",
      "tensor(0.0073, device='cuda:0', grad_fn=<MseLossBackward>)\n",
      "tensor(0.0072, device='cuda:0', grad_fn=<MseLossBackward>)\n"
     ]
    }
   ],
   "source": [
    "# dip\n",
    "dip_fit_noise = skip.skip(num_input_channels=2, num_output_channels=3,\n",
    "                      upsample_mode='nearest', downsample_mode='avg',\n",
    "                      pad='reflection')\n",
    "\n",
    "dip_noise, dip_noise_mse_n, dip_noise_mse_t, dip_noise_input = trainnet.train_net(net = dip_fit_noise,\n",
    "                                                                                  num_epoches = 30000,\n",
    "                                                                                  lr = 0.01,\n",
    "                                                                                  net_input = dip_net_input,\n",
    "                                                                                  img_noisy = noise_tensor,\n",
    "                                                                                  img_clean = noise_tensor,\n",
    "                                                                                  k_channels = None)"
   ]
  },
  {
   "cell_type": "code",
   "execution_count": 0,
   "metadata": {
    "colab": {
     "base_uri": "https://localhost:8080/",
     "height": 370
    },
    "colab_type": "code",
    "executionInfo": {
     "elapsed": 1611,
     "status": "ok",
     "timestamp": 1586015583125,
     "user": {
      "displayName": "tea lemon",
      "photoUrl": "",
      "userId": "09490020790366294186"
     },
     "user_tz": -60
    },
    "id": "4xHHjr8EvlfQ",
    "outputId": "827a1cdc-844f-4d93-f138-ea8ed75dd082"
   },
   "outputs": [
    {
     "data": {
      "text/plain": [
       "<matplotlib.legend.Legend at 0x7f9bdb29cbe0>"
      ]
     },
     "execution_count": 61,
     "metadata": {
      "tags": []
     },
     "output_type": "execute_result"
    },
    {
     "data": {
      "image/png": "[encoded data removed]",
      "text/plain": [
       "<Figure size 360x360 with 1 Axes>"
      ]
     },
     "metadata": {
      "tags": []
     },
     "output_type": "display_data"
    }
   ],
   "source": [
    "plt.figure(figsize=(5,5))\n",
    "plt.loglog(dd_noise_mse_t, label='DD')\n",
    "plt.loglog(dip_noise_mse_t, alpha=0.9, label='DIP')\n",
    "plt.xlabel('iteration', fontsize=11)\n",
    "plt.ylabel('MSE noise', fontsize=11)\n",
    "plt.title('fit noise')\n",
    "plt.legend()"
   ]
  }
 ],
 "metadata": {
  "accelerator": "GPU",
  "colab": {
   "authorship_tag": "ABX9TyNBLcBWdbupz51HNNCm5Ntt",
   "name": "dd_dip_fit.ipynb",
   "provenance": []
  },
  "kernelspec": {
   "display_name": "Python 3",
   "language": "python",
   "name": "python3"
  }
 },
 "nbformat": 4,
 "nbformat_minor": 1
}
